{
  "nbformat": 4,
  "nbformat_minor": 0,
  "metadata": {
    "colab": {
      "provenance": [],
      "authorship_tag": "ABX9TyPx8scQBwKzzYCDEyWTtpkd",
      "include_colab_link": true
    },
    "kernelspec": {
      "name": "python3",
      "display_name": "Python 3"
    },
    "language_info": {
      "name": "python"
    }
  },
  "cells": [
    {
      "cell_type": "markdown",
      "metadata": {
        "id": "view-in-github",
        "colab_type": "text"
      },
      "source": [
        "<a href=\"https://colab.research.google.com/github/qoraraf/Extracting_-Arabic-_Text/blob/main/OCR_arabic_pdf.ipynb\" target=\"_parent\"><img src=\"https://colab.research.google.com/assets/colab-badge.svg\" alt=\"Open In Colab\"/></a>"
      ]
    },
    {
      "cell_type": "code",
      "source": [
        "!apt-get install -y poppler-utils\n",
        "!sudo apt update\n",
        "!sudo apt install -y tesseract-ocr\n",
        "!sudo apt install -y tesseract-ocr-ara\n",
        "!pip install pytesseract pdf2image\n"
      ],
      "metadata": {
        "colab": {
          "base_uri": "https://localhost:8080/"
        },
        "collapsed": true,
        "id": "-uAaxhs1OzUM",
        "outputId": "ff312488-20a1-44c7-f2d5-561cf309d838"
      },
      "execution_count": 10,
      "outputs": [
        {
          "output_type": "stream",
          "name": "stdout",
          "text": [
            "Reading package lists... Done\n",
            "Building dependency tree... Done\n",
            "Reading state information... Done\n",
            "poppler-utils is already the newest version (22.02.0-2ubuntu0.5).\n",
            "0 upgraded, 0 newly installed, 0 to remove and 49 not upgraded.\n",
            "Hit:1 https://cloud.r-project.org/bin/linux/ubuntu jammy-cran40/ InRelease\n",
            "Hit:2 https://developer.download.nvidia.com/compute/cuda/repos/ubuntu2204/x86_64  InRelease\n",
            "Hit:3 http://security.ubuntu.com/ubuntu jammy-security InRelease\n",
            "Hit:4 https://r2u.stat.illinois.edu/ubuntu jammy InRelease\n",
            "Hit:5 http://archive.ubuntu.com/ubuntu jammy InRelease\n",
            "Hit:6 http://archive.ubuntu.com/ubuntu jammy-updates InRelease\n",
            "Hit:7 http://archive.ubuntu.com/ubuntu jammy-backports InRelease\n",
            "Hit:8 https://ppa.launchpadcontent.net/deadsnakes/ppa/ubuntu jammy InRelease\n",
            "Hit:9 https://ppa.launchpadcontent.net/graphics-drivers/ppa/ubuntu jammy InRelease\n",
            "Hit:10 https://ppa.launchpadcontent.net/ubuntugis/ppa/ubuntu jammy InRelease\n",
            "Reading package lists... Done\n",
            "Building dependency tree... Done\n",
            "Reading state information... Done\n",
            "49 packages can be upgraded. Run 'apt list --upgradable' to see them.\n",
            "\u001b[1;33mW: \u001b[0mSkipping acquire of configured file 'main/source/Sources' as repository 'https://r2u.stat.illinois.edu/ubuntu jammy InRelease' does not seem to provide it (sources.list entry misspelt?)\u001b[0m\n",
            "Reading package lists... Done\n",
            "Building dependency tree... Done\n",
            "Reading state information... Done\n",
            "tesseract-ocr is already the newest version (4.1.1-2.1build1).\n",
            "0 upgraded, 0 newly installed, 0 to remove and 49 not upgraded.\n",
            "Reading package lists... Done\n",
            "Building dependency tree... Done\n",
            "Reading state information... Done\n",
            "tesseract-ocr-ara is already the newest version (1:4.00~git30-7274cfa-1.1).\n",
            "0 upgraded, 0 newly installed, 0 to remove and 49 not upgraded.\n",
            "Requirement already satisfied: pytesseract in /usr/local/lib/python3.10/dist-packages (0.3.13)\n",
            "Requirement already satisfied: pdf2image in /usr/local/lib/python3.10/dist-packages (1.17.0)\n",
            "Requirement already satisfied: packaging>=21.3 in /usr/local/lib/python3.10/dist-packages (from pytesseract) (24.2)\n",
            "Requirement already satisfied: Pillow>=8.0.0 in /usr/local/lib/python3.10/dist-packages (from pytesseract) (11.0.0)\n"
          ]
        }
      ]
    },
    {
      "cell_type": "code",
      "source": [
        "from pdf2image import convert_from_path\n",
        "import pytesseract\n"
      ],
      "metadata": {
        "id": "gBG1_AjwNgj5"
      },
      "execution_count": 2,
      "outputs": []
    },
    {
      "cell_type": "code",
      "source": [
        "from google.colab import files\n",
        "uploaded = files.upload()\n"
      ],
      "metadata": {
        "colab": {
          "base_uri": "https://localhost:8080/",
          "height": 73
        },
        "id": "N1NDG-Z3Nubh",
        "outputId": "b0a2c92c-8216-429c-a961-d0df859199a0"
      },
      "execution_count": 16,
      "outputs": [
        {
          "output_type": "display_data",
          "data": {
            "text/plain": [
              "<IPython.core.display.HTML object>"
            ],
            "text/html": [
              "\n",
              "     <input type=\"file\" id=\"files-dbd01f62-0e9f-4a96-b7bd-d5925ed820df\" name=\"files[]\" multiple disabled\n",
              "        style=\"border:none\" />\n",
              "     <output id=\"result-dbd01f62-0e9f-4a96-b7bd-d5925ed820df\">\n",
              "      Upload widget is only available when the cell has been executed in the\n",
              "      current browser session. Please rerun this cell to enable.\n",
              "      </output>\n",
              "      <script>// Copyright 2017 Google LLC\n",
              "//\n",
              "// Licensed under the Apache License, Version 2.0 (the \"License\");\n",
              "// you may not use this file except in compliance with the License.\n",
              "// You may obtain a copy of the License at\n",
              "//\n",
              "//      http://www.apache.org/licenses/LICENSE-2.0\n",
              "//\n",
              "// Unless required by applicable law or agreed to in writing, software\n",
              "// distributed under the License is distributed on an \"AS IS\" BASIS,\n",
              "// WITHOUT WARRANTIES OR CONDITIONS OF ANY KIND, either express or implied.\n",
              "// See the License for the specific language governing permissions and\n",
              "// limitations under the License.\n",
              "\n",
              "/**\n",
              " * @fileoverview Helpers for google.colab Python module.\n",
              " */\n",
              "(function(scope) {\n",
              "function span(text, styleAttributes = {}) {\n",
              "  const element = document.createElement('span');\n",
              "  element.textContent = text;\n",
              "  for (const key of Object.keys(styleAttributes)) {\n",
              "    element.style[key] = styleAttributes[key];\n",
              "  }\n",
              "  return element;\n",
              "}\n",
              "\n",
              "// Max number of bytes which will be uploaded at a time.\n",
              "const MAX_PAYLOAD_SIZE = 100 * 1024;\n",
              "\n",
              "function _uploadFiles(inputId, outputId) {\n",
              "  const steps = uploadFilesStep(inputId, outputId);\n",
              "  const outputElement = document.getElementById(outputId);\n",
              "  // Cache steps on the outputElement to make it available for the next call\n",
              "  // to uploadFilesContinue from Python.\n",
              "  outputElement.steps = steps;\n",
              "\n",
              "  return _uploadFilesContinue(outputId);\n",
              "}\n",
              "\n",
              "// This is roughly an async generator (not supported in the browser yet),\n",
              "// where there are multiple asynchronous steps and the Python side is going\n",
              "// to poll for completion of each step.\n",
              "// This uses a Promise to block the python side on completion of each step,\n",
              "// then passes the result of the previous step as the input to the next step.\n",
              "function _uploadFilesContinue(outputId) {\n",
              "  const outputElement = document.getElementById(outputId);\n",
              "  const steps = outputElement.steps;\n",
              "\n",
              "  const next = steps.next(outputElement.lastPromiseValue);\n",
              "  return Promise.resolve(next.value.promise).then((value) => {\n",
              "    // Cache the last promise value to make it available to the next\n",
              "    // step of the generator.\n",
              "    outputElement.lastPromiseValue = value;\n",
              "    return next.value.response;\n",
              "  });\n",
              "}\n",
              "\n",
              "/**\n",
              " * Generator function which is called between each async step of the upload\n",
              " * process.\n",
              " * @param {string} inputId Element ID of the input file picker element.\n",
              " * @param {string} outputId Element ID of the output display.\n",
              " * @return {!Iterable<!Object>} Iterable of next steps.\n",
              " */\n",
              "function* uploadFilesStep(inputId, outputId) {\n",
              "  const inputElement = document.getElementById(inputId);\n",
              "  inputElement.disabled = false;\n",
              "\n",
              "  const outputElement = document.getElementById(outputId);\n",
              "  outputElement.innerHTML = '';\n",
              "\n",
              "  const pickedPromise = new Promise((resolve) => {\n",
              "    inputElement.addEventListener('change', (e) => {\n",
              "      resolve(e.target.files);\n",
              "    });\n",
              "  });\n",
              "\n",
              "  const cancel = document.createElement('button');\n",
              "  inputElement.parentElement.appendChild(cancel);\n",
              "  cancel.textContent = 'Cancel upload';\n",
              "  const cancelPromise = new Promise((resolve) => {\n",
              "    cancel.onclick = () => {\n",
              "      resolve(null);\n",
              "    };\n",
              "  });\n",
              "\n",
              "  // Wait for the user to pick the files.\n",
              "  const files = yield {\n",
              "    promise: Promise.race([pickedPromise, cancelPromise]),\n",
              "    response: {\n",
              "      action: 'starting',\n",
              "    }\n",
              "  };\n",
              "\n",
              "  cancel.remove();\n",
              "\n",
              "  // Disable the input element since further picks are not allowed.\n",
              "  inputElement.disabled = true;\n",
              "\n",
              "  if (!files) {\n",
              "    return {\n",
              "      response: {\n",
              "        action: 'complete',\n",
              "      }\n",
              "    };\n",
              "  }\n",
              "\n",
              "  for (const file of files) {\n",
              "    const li = document.createElement('li');\n",
              "    li.append(span(file.name, {fontWeight: 'bold'}));\n",
              "    li.append(span(\n",
              "        `(${file.type || 'n/a'}) - ${file.size} bytes, ` +\n",
              "        `last modified: ${\n",
              "            file.lastModifiedDate ? file.lastModifiedDate.toLocaleDateString() :\n",
              "                                    'n/a'} - `));\n",
              "    const percent = span('0% done');\n",
              "    li.appendChild(percent);\n",
              "\n",
              "    outputElement.appendChild(li);\n",
              "\n",
              "    const fileDataPromise = new Promise((resolve) => {\n",
              "      const reader = new FileReader();\n",
              "      reader.onload = (e) => {\n",
              "        resolve(e.target.result);\n",
              "      };\n",
              "      reader.readAsArrayBuffer(file);\n",
              "    });\n",
              "    // Wait for the data to be ready.\n",
              "    let fileData = yield {\n",
              "      promise: fileDataPromise,\n",
              "      response: {\n",
              "        action: 'continue',\n",
              "      }\n",
              "    };\n",
              "\n",
              "    // Use a chunked sending to avoid message size limits. See b/62115660.\n",
              "    let position = 0;\n",
              "    do {\n",
              "      const length = Math.min(fileData.byteLength - position, MAX_PAYLOAD_SIZE);\n",
              "      const chunk = new Uint8Array(fileData, position, length);\n",
              "      position += length;\n",
              "\n",
              "      const base64 = btoa(String.fromCharCode.apply(null, chunk));\n",
              "      yield {\n",
              "        response: {\n",
              "          action: 'append',\n",
              "          file: file.name,\n",
              "          data: base64,\n",
              "        },\n",
              "      };\n",
              "\n",
              "      let percentDone = fileData.byteLength === 0 ?\n",
              "          100 :\n",
              "          Math.round((position / fileData.byteLength) * 100);\n",
              "      percent.textContent = `${percentDone}% done`;\n",
              "\n",
              "    } while (position < fileData.byteLength);\n",
              "  }\n",
              "\n",
              "  // All done.\n",
              "  yield {\n",
              "    response: {\n",
              "      action: 'complete',\n",
              "    }\n",
              "  };\n",
              "}\n",
              "\n",
              "scope.google = scope.google || {};\n",
              "scope.google.colab = scope.google.colab || {};\n",
              "scope.google.colab._files = {\n",
              "  _uploadFiles,\n",
              "  _uploadFilesContinue,\n",
              "};\n",
              "})(self);\n",
              "</script> "
            ]
          },
          "metadata": {}
        },
        {
          "output_type": "stream",
          "name": "stdout",
          "text": [
            "Saving tarbyat_a6fal_muslimen_241105_145826.pdf to tarbyat_a6fal_muslimen_241105_145826.pdf\n"
          ]
        }
      ]
    },
    {
      "cell_type": "code",
      "source": [
        "from pdf2image import convert_from_path\n",
        "pdf_path = 'tarbyat_a6fal_muslimen_241105_145826.pdf'\n",
        "# Convert the first 5 pages of the uploaded PDF\n",
        "pages = convert_from_path(pdf_path, first_page=1, last_page=5)\n"
      ],
      "metadata": {
        "id": "N-AEjYtDO48p"
      },
      "execution_count": 17,
      "outputs": []
    },
    {
      "cell_type": "code",
      "source": [
        "import pytesseract\n",
        "\n",
        "extracted_text = []\n",
        "for page_number, page in enumerate(pages, start=1):\n",
        "    text = pytesseract.image_to_string(page, lang='ara')  # Specify Arabic language\n",
        "    extracted_text.append(f\"--- Page {page_number} ---\\n{text}\")\n"
      ],
      "metadata": {
        "id": "QIRRw9hJOLE7"
      },
      "execution_count": 18,
      "outputs": []
    },
    {
      "cell_type": "code",
      "source": [
        "# Combine all the extracted text\n",
        "full_text = \"\\n\\n\".join(extracted_text)\n",
        "print(full_text)"
      ],
      "metadata": {
        "colab": {
          "base_uri": "https://localhost:8080/"
        },
        "collapsed": true,
        "id": "mk3JeKoyPUpT",
        "outputId": "766f4e78-12c8-4694-a41a-c072f3f1da3a"
      },
      "execution_count": 19,
      "outputs": [
        {
          "output_type": "stream",
          "name": "stdout",
          "text": [
            "--- Page 1 ---\n",
            " \n",
            "\n",
            "4\n",
            "\n",
            "8 ل\n",
            "0\n",
            "7\n",
            "\n",
            "إلا\n",
            "\n",
            "  \n",
            " \n",
            "  \n",
            "\f\n",
            "\n",
            "--- Page 2 ---\n",
            "ع\n",
            "\n",
            "2 1ك\n",
            "\n",
            "١\n",
            "\n",
            "وير مير\n",
            "\f\n",
            "\n",
            "--- Page 3 ---\n",
            "62\n",
            "جه\n",
            "5\n",
            "\n",
            "و اميسااظ به\n",
            "7\n",
            "\n",
            "مكرما\n",
            "بسم الله والصلاة والسلام على من لا نبي بعده\n",
            "\n",
            "أما بعد:\n",
            "\n",
            "الحمد لله الذي أرسل الرسل مبشرين ومنذرين ورحمة وقدوة للعالمين» وهداة مهتدين»\n",
            "وجعل في قصصهم عبرة للمعتبرين وآية للمستبصرين وحجة على الخلق أجمعين.\n",
            "\n",
            "فهذا كتاب للمربين ولقراءته على أطفال المسلمين وفيه تربية للحم على قصص\n",
            "الأنبياء والمرسلين» فإنهم خير خلق الله أجمعين» لا على نسج خيالات الأذهان أو\n",
            "قصص التافهين.\n",
            "\n",
            "وقد جمع هذا الكتاب بين المتعة والفائدة» ومنهجي فيه أن أسرد القصة مختصرة\n",
            "ومجردة ليسهل فهمهاء ثم أذكر دليل القصة لقراءته وتلاوته» ثم أذكر بعض الفوائد من\n",
            "القصة وفقهها.\n",
            "\n",
            "والله أسأل أن يكتب له القبول والنفع.\n",
            "\n",
            " \n",
            "\f\n",
            "\n",
            "--- Page 4 ---\n",
            "م من فوائد تعلم قصص الأنبياء #4\n",
            "\n",
            "‎.١‏ أتحم هم القدوة الصالحة للناس فقد قال تعالى لنبيه كَل عن الأنبياء والمرسلين:\n",
            "لأَزلتيكَ َلَّدِينَ هَدَى أللَدّ قَبِهُدَنِهُمْ أَقْتَدِمَك [لأعم: .].\n",
            "\n",
            "‎.١‏ أن في قصصهم عبرة وعظة للناس؛ قال تعالى: «إلَقَدْ كنَ فى َصَصِهِمْ عِبره لَأْول\n",
            "آلْأَْبَبُمَا كنَ حَدِيَا يُفترَى وَلَحن تضدِيق أَلّدِى بَينَ يَدَيْهِ وَتفْصِيل كل شَيْءِ\n",
            "وَهُدَى وَرَحْمَةَ لِقَوِيُؤْمِنُونَ4 [بوسف: ‎.]1١١‏\n",
            "\n",
            "‏. أن من أركان الإيمان الإيمان بالرسل عليهم السلام, ولا يتم ذلك إلا بمعرفة أخبارهم\n",
            "والاقتداء بحم. قال تعالى: لأءَامَنَ آَلرّسُولُ بمآ أنزل إلَيْهِ من رَبْدِ- وَالْمُؤْمِنُونَ كل\n",
            "َامَنَ لله وَملتِيِكَتد وَكُمِيهِء وَرُْسْلِو لا نُقَرَقُ بَينَ أَحَدِ مّن يُسْلِدْ وَقالُواسَيِعْنا\n",
            "\n",
            "‏؟. السعادة الحقيقة في الدنيا والآخرة لا تال إلا باتباع الرسل والأنبياء عليهم\n",
            "السلام» قال تعالى: «إوَمن يْطِع آله وَآلرَسُول تولك مع ألِّينَ أَنْمَ آله عَلَيْهِم\n",
            "من تين وَألصِدِيقِينَ وَألشُهَدَآءِ وَألصَّلِحِينَ وَحَسْنَ وليك رَِيقَاك السه: .].\n",
            "\n",
            "‏ه. لا طريق إلى الله إلا عن طريقهم ودلالتهم, إذ الخلق بحاجة إلى الرسل ليبلغوهم\n",
            "ويعلموهم ما يحبه الله ويرضاهء وما يكرهه الله ويأباه» من الأقوال والأعمال\n",
            "\n",
            "‏رط\n",
            "\n",
            "‏والعقائد. قال تعالى: #أمَّن يْطِعِ ألرَسُولَ فَقَدُ أطاع ألنَّهَ وَمَن تَوَلّ هَمَآ أَرَسَلْئدَ\n",
            "\n",
            "‏عَلَيّهِمَ حَفِيظَاك إلسه: .ها.\n",
            "\n",
            "‎ \n",
            "\n",
            "‎ \n",
            "\n",
            "‎ \n",
            "\f\n",
            "\n",
            "--- Page 5 ---\n",
            "6-9\n",
            "مك تعريف النبي والرسول والفرق بينهماء\n",
            "1 وأحسن ما قيل في ذلك\n",
            "4 النبي: هو من أَؤْحى الله إليه بشرع لنفسه أو أمر بتبليغه إلى قوم موافقين له؛ يعني\n",
            "موافقين له في التوحيد. كآدم اكلتثلة.\n",
            "© والرسول: هو من أؤحى الله إليه بشرع وأَمِرَ بتبليغه إلى قوم مخالفين له. كنوح\n",
            "وإبراهيم عليهم السلام» ومحمد 305.\n",
            "© ومن العاهاء من قال: أن النبي من أوحي إليه بشرع ول يؤمر بتبليغه. والرسول:\n",
            "هتبيه لول 0 نبي» وليس كل نبي رسول. مغاله: آدم لتقلا نبي وليس برسول.\n",
            "ونوح التفثل: نبي رسول.\n",
            "\n",
            " \n",
            "\n",
            " \n",
            "\n",
            " \n",
            "\f\n"
          ]
        }
      ]
    },
    {
      "cell_type": "code",
      "source": [
        "with open(\"extracted_text.txt\", \"w\") as file:\n",
        "    file.write(full_text)\n",
        "\n",
        "# Download the text file\n",
        "files.download(\"extracted_text.txt\")\n"
      ],
      "metadata": {
        "colab": {
          "base_uri": "https://localhost:8080/",
          "height": 17
        },
        "id": "-fjxy29bPX-5",
        "outputId": "fab38591-5bd8-477b-e66a-eb7ad4b0227c"
      },
      "execution_count": 20,
      "outputs": [
        {
          "output_type": "display_data",
          "data": {
            "text/plain": [
              "<IPython.core.display.Javascript object>"
            ],
            "application/javascript": [
              "\n",
              "    async function download(id, filename, size) {\n",
              "      if (!google.colab.kernel.accessAllowed) {\n",
              "        return;\n",
              "      }\n",
              "      const div = document.createElement('div');\n",
              "      const label = document.createElement('label');\n",
              "      label.textContent = `Downloading \"${filename}\": `;\n",
              "      div.appendChild(label);\n",
              "      const progress = document.createElement('progress');\n",
              "      progress.max = size;\n",
              "      div.appendChild(progress);\n",
              "      document.body.appendChild(div);\n",
              "\n",
              "      const buffers = [];\n",
              "      let downloaded = 0;\n",
              "\n",
              "      const channel = await google.colab.kernel.comms.open(id);\n",
              "      // Send a message to notify the kernel that we're ready.\n",
              "      channel.send({})\n",
              "\n",
              "      for await (const message of channel.messages) {\n",
              "        // Send a message to notify the kernel that we're ready.\n",
              "        channel.send({})\n",
              "        if (message.buffers) {\n",
              "          for (const buffer of message.buffers) {\n",
              "            buffers.push(buffer);\n",
              "            downloaded += buffer.byteLength;\n",
              "            progress.value = downloaded;\n",
              "          }\n",
              "        }\n",
              "      }\n",
              "      const blob = new Blob(buffers, {type: 'application/binary'});\n",
              "      const a = document.createElement('a');\n",
              "      a.href = window.URL.createObjectURL(blob);\n",
              "      a.download = filename;\n",
              "      div.appendChild(a);\n",
              "      a.click();\n",
              "      div.remove();\n",
              "    }\n",
              "  "
            ]
          },
          "metadata": {}
        },
        {
          "output_type": "display_data",
          "data": {
            "text/plain": [
              "<IPython.core.display.Javascript object>"
            ],
            "application/javascript": [
              "download(\"download_86921bc1-1e31-43a1-b00d-9aa959316f32\", \"extracted_text.txt\", 4310)"
            ]
          },
          "metadata": {}
        }
      ]
    }
  ]
}